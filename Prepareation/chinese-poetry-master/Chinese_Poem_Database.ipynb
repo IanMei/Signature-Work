{
 "cells": [
  {
   "cell_type": "code",
   "execution_count": 14,
   "metadata": {},
   "outputs": [],
   "source": [
    "import numpy as np\n",
    "import pandas as pd\n",
    "import sqlite3 as sql\n",
    "import os\n",
    "import json\n",
    "import jieba\n",
    "from zhconv import convert"
   ]
  },
  {
   "attachments": {},
   "cell_type": "markdown",
   "metadata": {},
   "source": [
    "## Load the data"
   ]
  },
  {
   "attachments": {},
   "cell_type": "markdown",
   "metadata": {},
   "source": [
    "### Find curent directory"
   ]
  },
  {
   "cell_type": "code",
   "execution_count": 15,
   "metadata": {},
   "outputs": [
    {
     "name": "stdout",
     "output_type": "stream",
     "text": [
      "e:\\Yantao\\Signature-Work\\chinese-poetry-master\n"
     ]
    }
   ],
   "source": [
    "cur_dir = os.getcwd()\n",
    "print(cur_dir)"
   ]
  },
  {
   "attachments": {},
   "cell_type": "markdown",
   "metadata": {},
   "source": [
    "### Find all poem database"
   ]
  },
  {
   "cell_type": "code",
   "execution_count": 16,
   "metadata": {},
   "outputs": [
    {
     "name": "stdout",
     "output_type": "stream",
     "text": [
      "e:\\Yantao\\Signature-Work\\chinese-poetry-master\\.github\n",
      "e:\\Yantao\\Signature-Work\\chinese-poetry-master\\caocaoshiji\n",
      "e:\\Yantao\\Signature-Work\\chinese-poetry-master\\chuci\n",
      "e:\\Yantao\\Signature-Work\\chinese-poetry-master\\ci\n",
      "e:\\Yantao\\Signature-Work\\chinese-poetry-master\\images\n",
      "e:\\Yantao\\Signature-Work\\chinese-poetry-master\\json\n",
      "e:\\Yantao\\Signature-Work\\chinese-poetry-master\\lunyu\n",
      "e:\\Yantao\\Signature-Work\\chinese-poetry-master\\mengxue\n",
      "e:\\Yantao\\Signature-Work\\chinese-poetry-master\\nalanxingde\n",
      "e:\\Yantao\\Signature-Work\\chinese-poetry-master\\quan_tang_shi\n",
      "e:\\Yantao\\Signature-Work\\chinese-poetry-master\\rank\n",
      "e:\\Yantao\\Signature-Work\\chinese-poetry-master\\shijing\n",
      "e:\\Yantao\\Signature-Work\\chinese-poetry-master\\sishuwujing\n",
      "e:\\Yantao\\Signature-Work\\chinese-poetry-master\\strains\n",
      "e:\\Yantao\\Signature-Work\\chinese-poetry-master\\wudai\n",
      "e:\\Yantao\\Signature-Work\\chinese-poetry-master\\youmengying\n",
      "e:\\Yantao\\Signature-Work\\chinese-poetry-master\\yuanqu\n"
     ]
    }
   ],
   "source": [
    "for filename in os.listdir(cur_dir):\n",
    "        if os.path.isdir(os.path.join(cur_dir,filename)):\n",
    "            print (os.path.join(cur_dir,filename))"
   ]
  },
  {
   "attachments": {},
   "cell_type": "markdown",
   "metadata": {},
   "source": [
    "#### Content\n",
    "- 曹操诗集 (caocaoshiji)\n",
    "- 楚辞 (chuci)\n",
    "- 词 (ci)\n",
    "- 全唐诗&全宋诗 (json)\n",
    "- 论语 (lunyu)\n",
    "- 蒙学 (mengxue)\n",
    "- 纳兰性德 (nalanxingde)\n",
    "- 全唐诗 (quan_tang_shi)\n",
    "- 排行 (rank)\n",
    "- 诗经 (shijing)\n",
    "- 四书五经 (sishuwujing)\n",
    "- 发音/平仄 (strains)\n",
    "- 五代 (wudai)\n",
    "- 游梦吟 (youmengying)\n",
    "- 元曲 (yuanqu)"
   ]
  },
  {
   "attachments": {},
   "cell_type": "markdown",
   "metadata": {},
   "source": [
    "### We add a filter to ignore some unhelpful directory"
   ]
  },
  {
   "cell_type": "code",
   "execution_count": 17,
   "metadata": {},
   "outputs": [],
   "source": [
    "ignore = ['.github','images','rank','sishuwujing','strains','lunyu','mengxue']"
   ]
  },
  {
   "cell_type": "code",
   "execution_count": 18,
   "metadata": {},
   "outputs": [
    {
     "name": "stdout",
     "output_type": "stream",
     "text": [
      "e:\\Yantao\\Signature-Work\\chinese-poetry-master\\caocaoshiji\n",
      "e:\\Yantao\\Signature-Work\\chinese-poetry-master\\chuci\n",
      "e:\\Yantao\\Signature-Work\\chinese-poetry-master\\ci\n",
      "e:\\Yantao\\Signature-Work\\chinese-poetry-master\\json\n",
      "e:\\Yantao\\Signature-Work\\chinese-poetry-master\\nalanxingde\n",
      "e:\\Yantao\\Signature-Work\\chinese-poetry-master\\quan_tang_shi\n",
      "e:\\Yantao\\Signature-Work\\chinese-poetry-master\\shijing\n",
      "e:\\Yantao\\Signature-Work\\chinese-poetry-master\\wudai\n",
      "e:\\Yantao\\Signature-Work\\chinese-poetry-master\\youmengying\n",
      "e:\\Yantao\\Signature-Work\\chinese-poetry-master\\yuanqu\n"
     ]
    }
   ],
   "source": [
    "databases = []\n",
    "for filename in os.listdir(cur_dir):\n",
    "        if os.path.isdir(os.path.join(cur_dir,filename)) and not (filename in ignore):\n",
    "            databases.append(os.path.join(cur_dir,filename))\n",
    "            print (os.path.join(cur_dir,filename))"
   ]
  },
  {
   "attachments": {},
   "cell_type": "markdown",
   "metadata": {},
   "source": [
    "## Play with the database: quan_tang_shi"
   ]
  },
  {
   "cell_type": "code",
   "execution_count": 21,
   "metadata": {},
   "outputs": [
    {
     "name": "stdout",
     "output_type": "stream",
     "text": [
      "e:\\Yantao\\Signature-Work\\chinese-poetry-master\n"
     ]
    }
   ],
   "source": [
    "print(cur_dir)"
   ]
  },
  {
   "cell_type": "code",
   "execution_count": 24,
   "metadata": {},
   "outputs": [
    {
     "data": {
      "text/plain": [
       "{'title': '飲馬長城窟行',\n",
       " 'author': '李世民',\n",
       " 'biography': '',\n",
       " 'paragraphs': ['塞外悲風切，交河冰已結。瀚海百重波，陰山千里雪。',\n",
       "  '迥戍危烽火，層巒引高節。悠悠卷旆旌，飲馬出長城。',\n",
       "  '寒沙連騎跡，朔吹斷邊聲。胡塵清玉塞，羌笛韻金鉦。',\n",
       "  '絕漠干戈戢，車徒振原隰。都尉反龍堆，將軍旋馬邑。',\n",
       "  '揚麾氛霧靜，紀石功名立。荒裔一戎衣，靈台凱歌入。'],\n",
       " 'notes': [''],\n",
       " 'volume': '卷一',\n",
       " 'no#': 2}"
      ]
     },
     "execution_count": 24,
     "metadata": {},
     "output_type": "execute_result"
    }
   ],
   "source": [
    "database = cur_dir + '\\quan_tang_shi\\json\\\\001.json'\n",
    "\n",
    "with open(database, 'r',encoding='utf-8') as file:\n",
    "    datas = json.load(file)\n",
    "\n",
    "# for data in datas:\n",
    "datas[1]\n"
   ]
  },
  {
   "cell_type": "code",
   "execution_count": 27,
   "metadata": {},
   "outputs": [
    {
     "name": "stdout",
     "output_type": "stream",
     "text": [
      "帝京篇十首\n",
      "飲馬長城窟行\n",
      "執契靜三邊\n",
      "正日臨朝\n",
      "幸武功慶善宮\n",
      "重幸武功\n",
      "經破薛舉戰地\n",
      "過舊宅二首\n",
      "還陝述懷\n",
      "入潼關\n",
      "於北平作\n",
      "遼城望月\n",
      "春日登陝州城樓俯眺原野廻丹碧綴煙霞密翠斑紅芳菲花柳即目川岫聊以命篇\n",
      "春日玄武門宴群臣\n",
      "登三臺言志\n",
      "出獵\n",
      "冬狩\n",
      "春日望海\n",
      "臨洛水\n",
      "望終南山\n",
      "元日\n",
      "初春登樓即目觀作述懷\n",
      "首春\n",
      "初晴落景\n",
      "初夏\n",
      "度秋\n",
      "儀鸞殿早秋\n",
      "秋日即目\n",
      "山閣晚秋\n",
      "秋暮言志\n",
      "喜雪\n",
      "秋日斅庾信體\n",
      "賦尚書\n",
      "詠司馬彪續漢志\n",
      "詠風\n",
      "詠雨\n",
      "詠雪\n",
      "賦得夏首啟節\n",
      "賦得白日半西山\n",
      "置酒坐飛閣\n",
      "采芙蓉\n",
      "賦得櫻桃\n",
      "賦得李\n",
      "賦得浮橋\n",
      "謁並州大興國寺詩\n",
      "詠興國寺佛殿前幡\n",
      "望送魏徵葬\n",
      "傷遼東戰亡\n",
      "月晦\n",
      "秋日翠微宮\n",
      "初秋夜坐\n",
      "秋日二首\n",
      "冬宵各為四韻\n",
      "冬日臨昆明池\n",
      "望雪\n",
      "守歲\n",
      "除夜\n",
      "詠雨\n",
      "賦得含峰雲\n",
      "三層閣上置音聲\n",
      "遠山澄碧霧\n",
      "賦得花庭霧\n",
      "春池柳\n",
      "芳蘭\n",
      "詠桃\n",
      "賦簾\n",
      "詠烏代陳師道\n",
      "詠飲馬\n",
      "賦得殘菊\n",
      "賦秋日懸清光賜房玄齡\n",
      "琵琶\n",
      "宴中山\n",
      "餞中書侍郎來濟\n",
      "於太原召侍臣賜宴守歲\n",
      "詠燭二首\n",
      "詠弓\n",
      "賦得早雁出雲鳴\n",
      "賦得臨池柳\n",
      "賦得臨池竹\n",
      "賦得弱柳鳴秋蟬\n",
      "探得李\n",
      "詠小山\n",
      "賜蕭瑀\n",
      "賜房玄齡\n",
      "遼東山夜臨秋\n",
      "賜魏徵詩\n",
      "兩儀殿賦柏梁體\n",
      "句\n"
     ]
    }
   ],
   "source": [
    "for data in datas:\n",
    "    print(data['title'])"
   ]
  },
  {
   "cell_type": "code",
   "execution_count": 30,
   "metadata": {},
   "outputs": [
    {
     "name": "stdout",
     "output_type": "stream",
     "text": [
      "帝京篇十首\n",
      "饮马长城窟行\n",
      "执契静三边\n",
      "正日临朝\n",
      "幸武功庆善宫\n",
      "重幸武功\n",
      "经破薛举战地\n",
      "过旧宅二首\n",
      "还陕述怀\n",
      "入潼关\n",
      "于北平作\n",
      "辽城望月\n",
      "春日登陕州城楼俯眺原野回丹碧缀烟霞密翠斑红芳菲花柳即目川岫聊以命篇\n",
      "春日玄武门宴群臣\n",
      "登三台言志\n",
      "出猎\n",
      "冬狩\n",
      "春日望海\n",
      "临洛水\n",
      "望终南山\n",
      "元日\n",
      "初春登楼即目观作述怀\n",
      "首春\n",
      "初晴落景\n",
      "初夏\n",
      "度秋\n",
      "仪鸾殿早秋\n",
      "秋日即目\n",
      "山阁晚秋\n",
      "秋暮言志\n",
      "喜雪\n",
      "秋日𢽾庾信体\n",
      "赋尚书\n",
      "咏司马彪续汉志\n",
      "咏风\n",
      "咏雨\n",
      "咏雪\n",
      "赋得夏首启节\n",
      "赋得白日半西山\n",
      "置酒坐飞阁\n",
      "采芙蓉\n",
      "赋得樱桃\n",
      "赋得李\n",
      "赋得浮桥\n",
      "谒并州大兴国寺诗\n",
      "咏兴国寺佛殿前幡\n",
      "望送魏徵葬\n",
      "伤辽东战亡\n",
      "月晦\n",
      "秋日翠微宫\n",
      "初秋夜坐\n",
      "秋日二首\n",
      "冬宵各为四韵\n",
      "冬日临昆明池\n",
      "望雪\n",
      "守岁\n",
      "除夜\n",
      "咏雨\n",
      "赋得含峰云\n",
      "三层阁上置音声\n",
      "远山澄碧雾\n",
      "赋得花庭雾\n",
      "春池柳\n",
      "芳兰\n",
      "咏桃\n",
      "赋帘\n",
      "咏乌代陈师道\n",
      "咏饮马\n",
      "赋得残菊\n",
      "赋秋日悬清光赐房玄龄\n",
      "琵琶\n",
      "宴中山\n",
      "饯中书侍郎来济\n",
      "于太原召侍臣赐宴守岁\n",
      "咏烛二首\n",
      "咏弓\n",
      "赋得早雁出云鸣\n",
      "赋得临池柳\n",
      "赋得临池竹\n",
      "赋得弱柳鸣秋蝉\n",
      "探得李\n",
      "咏小山\n",
      "赐萧瑀\n",
      "赐房玄龄\n",
      "辽东山夜临秋\n",
      "赐魏徵诗\n",
      "两仪殿赋柏梁体\n",
      "句\n"
     ]
    }
   ],
   "source": [
    "for data in datas:\n",
    "    print(convert(data['title'], 'zh-hans'))"
   ]
  },
  {
   "attachments": {},
   "cell_type": "markdown",
   "metadata": {},
   "source": [
    "input ---> seperate the input in chinese ---> translate"
   ]
  },
  {
   "attachments": {},
   "cell_type": "markdown",
   "metadata": {},
   "source": [
    "## Next week\n",
    "- three courses (DS/A&H/Literature)\n",
    "- Already/Plan to \n",
    "- Internship/SRS/Project\n"
   ]
  }
 ],
 "metadata": {
  "kernelspec": {
   "display_name": "base",
   "language": "python",
   "name": "python3"
  },
  "language_info": {
   "codemirror_mode": {
    "name": "ipython",
    "version": 3
   },
   "file_extension": ".py",
   "mimetype": "text/x-python",
   "name": "python",
   "nbconvert_exporter": "python",
   "pygments_lexer": "ipython3",
   "version": "3.9.13"
  },
  "orig_nbformat": 4,
  "vscode": {
   "interpreter": {
    "hash": "88279d2366fe020547cde40dd65aa0e3aa662a6ec1f3ca12d88834876c85e1a6"
   }
  }
 },
 "nbformat": 4,
 "nbformat_minor": 2
}
